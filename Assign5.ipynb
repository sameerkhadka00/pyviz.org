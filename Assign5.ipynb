{
  "nbformat": 4,
  "nbformat_minor": 0,
  "metadata": {
    "colab": {
      "provenance": [],
      "authorship_tag": "ABX9TyM/l8ffgdVJMG3xUwnpApwi",
      "include_colab_link": true
    },
    "kernelspec": {
      "name": "python3",
      "display_name": "Python 3"
    },
    "language_info": {
      "name": "python"
    }
  },
  "cells": [
    {
      "cell_type": "markdown",
      "metadata": {
        "id": "view-in-github",
        "colab_type": "text"
      },
      "source": [
        "<a href=\"https://colab.research.google.com/github/sameerkhadka00/pyviz.org/blob/master/Assign5.ipynb\" target=\"_parent\"><img src=\"https://colab.research.google.com/assets/colab-badge.svg\" alt=\"Open In Colab\"/></a>"
      ]
    },
    {
      "cell_type": "code",
      "execution_count": 5,
      "metadata": {
        "colab": {
          "base_uri": "https://localhost:8080/"
        },
        "id": "-k34k8Njt-wZ",
        "outputId": "93318221-8cf2-4378-b538-ab805eb8cf67"
      },
      "outputs": [
        {
          "output_type": "stream",
          "name": "stdout",
          "text": [
            "Machine is out of stock.\n",
            "Current {self.product} stock: {self.stock}\n",
            "You must deposit ${self.price - self.balance} more.\n",
            "Current balance: ${self.balance}\n",
            "You must deposit ${self.price - self.balance} more.\n",
            "Current balance: ${self.balance}\n",
            "Here is your {self.product} and ${change} change.\n",
            "Current balance: ${self.balance}\n",
            "Here is your {self.product} and ${change} change.\n"
          ]
        }
      ],
      "source": [
        "class VendingMachine:\n",
        "    def __init__(self, product, price):\n",
        "        self.product = product\n",
        "        self.price = price\n",
        "        self.balance = 0\n",
        "        self.stock = 0\n",
        "\n",
        "    def restock(self, quantity):\n",
        "        self.stock += quantity\n",
        "        return (\"Current {self.product} stock: {self.stock}\")\n",
        "\n",
        "    def deposit(self, amount):\n",
        "        self.balance += amount\n",
        "        return (\"Current balance: ${self.balance}\")\n",
        "\n",
        "    def vend(self):\n",
        "        if self.stock == 0:\n",
        "            return (\"Machine is out of stock.\")\n",
        "        elif self.balance < self.price:\n",
        "            return (\"You must deposit ${self.price - self.balance} more.\")\n",
        "        else:\n",
        "            self.stock -= 1\n",
        "            self.balance -= self.price\n",
        "            change = self.balance\n",
        "            self.balance = 0\n",
        "            return (\"Here is your {self.product} and ${change} change.\")\n",
        "\n",
        "\n",
        "vm = VendingMachine(\"crab\", 10)\n",
        "print(vm.vend())  # Machine is out of stock.\n",
        "print(vm.restock(2))  # Current crab stock: 2\n",
        "print(vm.vend())  # You must deposit $10 more.\n",
        "print(vm.deposit(7))  # Current balance: $7\n",
        "print(vm.vend())  # You must deposit $3 more.\n",
        "print(vm.deposit(5))  # Current balance: $12\n",
        "print(vm.vend())  # Here is your crab and $2 change.\n",
        "print(vm.deposit(10))  # Current balance: $10\n",
        "print(vm.vend())  # You must deposit $10 more.\n",
        "\n",
        "\n",
        "\n"
      ]
    }
  ]
}