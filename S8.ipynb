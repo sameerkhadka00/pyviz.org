{
  "nbformat": 4,
  "nbformat_minor": 0,
  "metadata": {
    "colab": {
      "provenance": [],
      "authorship_tag": "ABX9TyPqxQ70nhlCthRkjF736pnp",
      "include_colab_link": true
    },
    "kernelspec": {
      "name": "python3",
      "display_name": "Python 3"
    },
    "language_info": {
      "name": "python"
    }
  },
  "cells": [
    {
      "cell_type": "markdown",
      "metadata": {
        "id": "view-in-github",
        "colab_type": "text"
      },
      "source": [
        "<a href=\"https://colab.research.google.com/github/sameerkhadka00/pyviz.org/blob/master/S8.ipynb\" target=\"_parent\"><img src=\"https://colab.research.google.com/assets/colab-badge.svg\" alt=\"Open In Colab\"/></a>"
      ]
    },
    {
      "cell_type": "code",
      "execution_count": 12,
      "metadata": {
        "colab": {
          "base_uri": "https://localhost:8080/"
        },
        "id": "Dt9SuWgp3eJ9",
        "outputId": "74d37481-4e7c-47db-ed56-cf2e832512d0"
      },
      "outputs": [
        {
          "output_type": "stream",
          "name": "stdout",
          "text": [
            "Enter radius of circle:2\n",
            "Volume of circle : 33.510321638291124\n",
            "Surface Area of circle: 50.26548245743669\n"
          ]
        }
      ],
      "source": [
        "import math\n",
        "class Spheres:\n",
        "    def __init__(self,radius):\n",
        "        self.radius = radius\n",
        "        self.area = 0\n",
        "        self.volumeResult = 0\n",
        "\n",
        "    def getRadius(self):\n",
        "        return self.radius\n",
        "\n",
        "    def surfaceArea(self):\n",
        "        r = self.radius\n",
        "        self.area = 4 * math.pi * (r * r)\n",
        "        return self.area\n",
        "\n",
        "    def volume(self):\n",
        "        r = self.radius\n",
        "        self.volumeResult = (4/3) * math.pi * (r * r * r)\n",
        "        return self.volumeResult\n",
        "\n",
        "def main():\n",
        "    r = input(\"Enter radius of circle:\")\n",
        "    r = int(r)\n",
        "    radius = Spheres(r)\n",
        "    v = radius.volume()\n",
        "    a = radius.surfaceArea()\n",
        "\n",
        "    print (\"Volume of circle :\" , v)\n",
        "    print (\"Surface Area of circle:\" , a)\n",
        "\n",
        "main()"
      ]
    },
    {
      "cell_type": "code",
      "source": [
        "class Card:\n",
        "    def __init__(self, rank, suit):\n",
        "        self.rank = rank\n",
        "        self.suit = suit\n",
        "        self.ranks = [None, \"Ace\", 2, 3, 4, 5, 6, 7, 8, 9, 10, \"Jack\", \"Queen\", \"King\"]\n",
        "        self.suits = {\"d\": \"Diamonds\", \"c\": \"Clubs\", \"h\": \"Hearts\",\"s\": \"Spades\"}\n",
        "    def getRank(self):\n",
        "        return self.rank\n",
        "\n",
        "    def getSuit(self):\n",
        "\n",
        "        return self.suits.get(self.suit)\n",
        "\n",
        "    def bjValue(self):\n",
        "\n",
        "        if self.rank > 1 or self.rank < 11:\n",
        "            self.value = self.rank\n",
        "\n",
        "        elif self.rank == \"Ace\":\n",
        "            self.value = 1\n",
        "\n",
        "        elif self.rank == \"Jack\" or self.ranks == \"Queen\" or self.ranks == \"King\":\n",
        "            self.value = 10\n",
        "\n",
        "\n",
        "        return self.value\n",
        "\n",
        "\n",
        "    def __str__(self):\n",
        "\n",
        "        return \"%s of %s\" % (self.ranks[self.rank], self.suits.get(self.suit))\n",
        "\n",
        "\n",
        "\n",
        "\n",
        "\n",
        "c1 = Card(1,\"s\")\n",
        "c2 = Card(11,\"d\")\n",
        "print(c1)#expect Ace of Spades\n",
        "print(c2) #expect Jack of Diamonds\n",
        " \n",
        "c3 = Card(5,\"c\") #expect 5 of clubs\n",
        "print(c3.getRank())\n",
        "print(c3.getSuit()) #expect Five\n",
        "print(c3.bjValue()) #expect 5\n",
        "print(c3)\n",
        "\n",
        "c4 = Card(1,\"s\")\n",
        "print(c4)"
      ],
      "metadata": {
        "colab": {
          "base_uri": "https://localhost:8080/"
        },
        "id": "_53LBv7T4Vul",
        "outputId": "9bea45fd-72e1-4138-dfc1-936ef8bbcfa2"
      },
      "execution_count": 15,
      "outputs": [
        {
          "output_type": "stream",
          "name": "stdout",
          "text": [
            "Ace of Spades\n",
            "Jack of Diamonds\n",
            "5\n",
            "Clubs\n",
            "5\n",
            "5 of Clubs\n",
            "Ace of Spades\n"
          ]
        }
      ]
    }
  ]
}