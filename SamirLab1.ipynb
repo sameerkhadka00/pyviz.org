{
  "nbformat": 4,
  "nbformat_minor": 0,
  "metadata": {
    "colab": {
      "provenance": [],
      "authorship_tag": "ABX9TyPLpa+XDS84Mn7WR0hkXIeP",
      "include_colab_link": true
    },
    "kernelspec": {
      "name": "python3",
      "display_name": "Python 3"
    },
    "language_info": {
      "name": "python"
    }
  },
  "cells": [
    {
      "cell_type": "markdown",
      "metadata": {
        "id": "view-in-github",
        "colab_type": "text"
      },
      "source": [
        "<a href=\"https://colab.research.google.com/github/sameerkhadka00/pyviz.org/blob/master/SamirLab1.ipynb\" target=\"_parent\"><img src=\"https://colab.research.google.com/assets/colab-badge.svg\" alt=\"Open In Colab\"/></a>"
      ]
    },
    {
      "cell_type": "code",
      "execution_count": 1,
      "metadata": {
        "colab": {
          "base_uri": "https://localhost:8080/"
        },
        "id": "o4MophiCvMrW",
        "outputId": "5c329a61-cef8-4926-8332-5a16a1094d5a"
      },
      "outputs": [
        {
          "output_type": "stream",
          "name": "stdout",
          "text": [
            "The element with single occurrence is  4\n"
          ]
        }
      ],
      "source": [
        "from collections import Counter\n",
        "def foo(lst):\n",
        "   \n",
        "    \n",
        "    rep = Counter(lst)\n",
        "     \n",
        "    \n",
        "    for i in rep:\n",
        "       \n",
        "        \n",
        "        if(rep[i] == 1):\n",
        "            return i\n",
        "x = [\"a\", 3, 4, \"a\", 3]\n",
        "print(\"The element with single occurrence is \",int(foo(x)))"
      ]
    },
    {
      "cell_type": "code",
      "source": [
        "from collections import Counter\n",
        "def foo(lst):\n",
        "   \n",
        "    \n",
        "    rep = Counter(lst)\n",
        "     \n",
        "    \n",
        "    for i in rep:\n",
        "       \n",
        "        \n",
        "        if(rep[i] == 1):\n",
        "            return i\n",
        "x = [\"good\", \"one\", \"good\", \"one\"]\n",
        "print(\"The word with single occurrence is \",NameError(foo(x)))"
      ],
      "metadata": {
        "colab": {
          "base_uri": "https://localhost:8080/"
        },
        "id": "PDXDhZEHv3Jq",
        "outputId": "5b620415-b3f8-47d2-d71c-43b23d475fb5"
      },
      "execution_count": 4,
      "outputs": [
        {
          "output_type": "stream",
          "name": "stdout",
          "text": [
            "The element with single occurrence is  None\n"
          ]
        }
      ]
    },
    {
      "cell_type": "code",
      "source": [
        "from collections import Counter\n",
        "def foo(lst):\n",
        "   \n",
        "    \n",
        "    rep = Counter(lst)\n",
        "     \n",
        "    \n",
        "    for i in rep:\n",
        "       \n",
        "        \n",
        "        if(rep[i] == 1):\n",
        "            return i\n",
        "x = [\"good\"]\n",
        "print(\"The word with single occurrence is \",NameError(foo(x)))"
      ],
      "metadata": {
        "colab": {
          "base_uri": "https://localhost:8080/"
        },
        "id": "FbTjJ9jEwJko",
        "outputId": "a52ebad0-6314-40a3-eb08-b8927d0e6915"
      },
      "execution_count": 5,
      "outputs": [
        {
          "output_type": "stream",
          "name": "stdout",
          "text": [
            "The element with single occurrence is  good\n"
          ]
        }
      ]
    }
  ]
}