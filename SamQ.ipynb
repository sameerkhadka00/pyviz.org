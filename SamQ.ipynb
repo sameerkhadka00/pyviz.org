{
  "nbformat": 4,
  "nbformat_minor": 0,
  "metadata": {
    "colab": {
      "provenance": [],
      "collapsed_sections": [],
      "authorship_tag": "ABX9TyNa94B0SW++1RYht3OmRxJa",
      "include_colab_link": true
    },
    "kernelspec": {
      "name": "python3",
      "display_name": "Python 3"
    },
    "language_info": {
      "name": "python"
    }
  },
  "cells": [
    {
      "cell_type": "markdown",
      "metadata": {
        "id": "view-in-github",
        "colab_type": "text"
      },
      "source": [
        "<a href=\"https://colab.research.google.com/github/sameerkhadka00/pyviz.org/blob/master/SamQ.ipynb\" target=\"_parent\"><img src=\"https://colab.research.google.com/assets/colab-badge.svg\" alt=\"Open In Colab\"/></a>"
      ]
    },
    {
      "cell_type": "code",
      "source": [
        "def f(lst):\n",
        " \n",
        "    if (lst == 0):\n",
        "        return 0\n",
        "    if (lst % 9 == 0):\n",
        "        return 9\n",
        "    else:\n",
        "       return (lst % 9)\n",
        "lst = 456\n",
        "print(f(lst))\n",
        "def f(lst):\n",
        " \n",
        "    if (lst == 0):\n",
        "        return 0\n",
        "    if (lst % 9 == 0):\n",
        "        return 9\n",
        "    else:\n",
        "       return (lst % 9)\n",
        "lst = 78910\n",
        "print(f(lst))"
      ],
      "metadata": {
        "colab": {
          "base_uri": "https://localhost:8080/"
        },
        "id": "XmLjqjzgktmd",
        "outputId": "6e11a578-9959-4feb-a6c2-eb399bee9243"
      },
      "execution_count": 4,
      "outputs": [
        {
          "output_type": "stream",
          "name": "stdout",
          "text": [
            "6\n",
            "7\n"
          ]
        }
      ]
    }
  ]
}