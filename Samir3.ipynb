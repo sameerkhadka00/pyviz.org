{
  "nbformat": 4,
  "nbformat_minor": 0,
  "metadata": {
    "colab": {
      "provenance": [],
      "authorship_tag": "ABX9TyOercP/X+In3R27TrZFYEMU",
      "include_colab_link": true
    },
    "kernelspec": {
      "name": "python3",
      "display_name": "Python 3"
    },
    "language_info": {
      "name": "python"
    }
  },
  "cells": [
    {
      "cell_type": "markdown",
      "metadata": {
        "id": "view-in-github",
        "colab_type": "text"
      },
      "source": [
        "<a href=\"https://colab.research.google.com/github/sameerkhadka00/pyviz.org/blob/master/Samir3.ipynb\" target=\"_parent\"><img src=\"https://colab.research.google.com/assets/colab-badge.svg\" alt=\"Open In Colab\"/></a>"
      ]
    },
    {
      "cell_type": "code",
      "source": [],
      "metadata": {
        "id": "RE7MeD0CzzSt"
      },
      "execution_count": null,
      "outputs": []
    },
    {
      "cell_type": "code",
      "execution_count": null,
      "metadata": {
        "colab": {
          "base_uri": "https://localhost:8080/"
        },
        "id": "Zqde_5-gzHPV",
        "outputId": "c26753e6-8c84-4269-bce5-b79868290963"
      },
      "outputs": [
        {
          "output_type": "stream",
          "name": "stdout",
          "text": [
            "The original array is :  [500, 30]\n",
            "[]\n",
            "[]\n"
          ]
        }
      ],
      "source": [
        "#Answer of 2\n",
        "\n",
        "#Importing the math module\n",
        "import math\n",
        "#Initialising the array\n",
        "seq = [500,30]\n",
        "#Printing the original array\n",
        "print(\"The original array is : \", seq)\n",
        "#Using List comprehension to find perfect squares\n",
        "for i in seq:\n",
        " if (math.sqrt(i) == math.floor(math.sqrt(i))):\n",
        "#Printing the perfect squares in list form\n",
        "  print(\"The elements that were perfect squares from the above array are : \",)\n",
        " else:\n",
        "  print([])"
      ]
    },
    {
      "cell_type": "code",
      "source": [
        "from functools import wraps\n",
        "\n",
        "def memoize(f):\n",
        "    #\"\"\"Store and retrive previous results of the decorated function f.\"\"\"\n",
        "    cache = {}\n",
        "    wraps(f)\n",
        "    def func(*args):\n",
        "        if args not in cache:\n",
        "            cache[args] = f(*args)\n",
        "        return cache[args]\n",
        "    return func\n",
        "\n",
        "\n",
        "def fact(n):\n",
        "    #\"\"\"Recursively calculates n!.\"\"\"\n",
        "    if n <= 1:\n",
        "        return 1\n",
        "    return n * fact(n - 1)\n",
        "\n",
        "def inverse_fact_n(start_n=0):\n",
        "    #\"\"\"Generator producing the infinite series 1/n!.\"\"\"\n",
        "    numerator = 1.0\n",
        "    denominator = start_n\n",
        "    while True:\n",
        "        yield numerator / fact(denominator)\n",
        "        denominator += 1\n",
        "\n",
        "def approximate_e(steps=None, tolerance=None):\n",
        "    #\"\"\"Calculate an approximation of e from summation of 1/n!.\"\"\"\n",
        "    if steps is None and tolerance is None:\n",
        "        raise ValueError(\"Must supply one of steps or tolerance.\")\n",
        "    series = inverse_fact_n()\n",
        "    if steps is not None: # stepwise method\n",
        "        return sum(next(series) for _ in range(steps))\n",
        "    output = 0 # tolerance method\n",
        "    term = next(series)\n",
        "    while abs(term) > tolerance: \n",
        "        output += term\n",
        "        term = next(series)\n",
        "    return output\n",
        "\n",
        "if __name__ == \"__main__\":\n",
        "    from math import e\n",
        "    print(\"math.e:\\t\\t{0:.20f}.\".format(e))\n",
        "    stepwise = approximate_e(steps=100)\n",
        "    print(\"Stepwise:\\t{0:.20f}.\".format(stepwise))\n",
        "    tolerated = approximate_e(tolerance=0.0000000001)\n",
        "    print(\"Tolerated:\\t{0:.20f}.\".format(tolerated))\n"
      ],
      "metadata": {
        "colab": {
          "base_uri": "https://localhost:8080/"
        },
        "id": "-YWJmlVh12eH",
        "outputId": "97100e4e-5580-4dca-809e-1aa7b8f17afd"
      },
      "execution_count": 26,
      "outputs": [
        {
          "output_type": "stream",
          "name": "stdout",
          "text": [
            "math.e:\t\t2.71828182845904509080.\n",
            "Stepwise:\t2.71828182845904553488.\n",
            "Tolerated:\t2.71828182844675936281.\n"
          ]
        }
      ]
    }
  ]
}