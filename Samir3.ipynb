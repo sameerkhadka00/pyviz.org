{
  "nbformat": 4,
  "nbformat_minor": 0,
  "metadata": {
    "colab": {
      "provenance": [],
      "authorship_tag": "ABX9TyOzDVfzC2sD3JUR30d8que0",
      "include_colab_link": true
    },
    "kernelspec": {
      "name": "python3",
      "display_name": "Python 3"
    },
    "language_info": {
      "name": "python"
    }
  },
  "cells": [
    {
      "cell_type": "markdown",
      "metadata": {
        "id": "view-in-github",
        "colab_type": "text"
      },
      "source": [
        "<a href=\"https://colab.research.google.com/github/sameerkhadka00/pyviz.org/blob/master/Samir3.ipynb\" target=\"_parent\"><img src=\"https://colab.research.google.com/assets/colab-badge.svg\" alt=\"Open In Colab\"/></a>"
      ]
    },
    {
      "cell_type": "code",
      "source": [],
      "metadata": {
        "id": "RE7MeD0CzzSt"
      },
      "execution_count": null,
      "outputs": []
    },
    {
      "cell_type": "code",
      "execution_count": 21,
      "metadata": {
        "colab": {
          "base_uri": "https://localhost:8080/"
        },
        "id": "Zqde_5-gzHPV",
        "outputId": "c26753e6-8c84-4269-bce5-b79868290963"
      },
      "outputs": [
        {
          "output_type": "stream",
          "name": "stdout",
          "text": [
            "The original array is :  [500, 30]\n",
            "[]\n",
            "[]\n"
          ]
        }
      ],
      "source": [
        "#Answer of 2\n",
        "\n",
        "#Importing the math module\n",
        "import math\n",
        "#Initialising the array\n",
        "seq = [500,30]\n",
        "#Printing the original array\n",
        "print(\"The original array is : \", seq)\n",
        "#Using List comprehension to find perfect squares\n",
        "for i in seq:\n",
        " if (math.sqrt(i) == math.floor(math.sqrt(i))):\n",
        "#Printing the perfect squares in list form\n",
        "  print(\"The elements that were perfect squares from the above array are : \",)\n",
        " else:\n",
        "  print([])"
      ]
    },
    {
      "cell_type": "code",
      "source": [
        "import numpy as np\n",
        "import matplotlib.pyplot as plt\n",
        "from scipy.optimize import curve_fit\n",
        "\n",
        "data = np.random.exponential(5, size=100)\n",
        "\n",
        "hist,edges = np.histogram(data,bins=\"auto\",density=True )\n",
        "\n",
        "x = edges[:-1]+np.diff(edges)/2.\n",
        "plt.scatter(x,hist)\n",
        "\n",
        "func = lambda x,beta: 1./beta*np.exp(-x/beta)\n",
        "\n",
        "popt, pcov = curve_fit(f=func, xdata=x, ydata=hist) \n",
        "\n",
        "print(popt)\n",
        "\n",
        "xx = np.linspace(0, x.max(), 101)\n",
        "plt.plot(xx, func(xx,*popt), ls=\"--\", color=\"k\", \n",
        "         label=\"fit, $beta = ${}\".format(popt))\n",
        "plt.legend()\n",
        "plt.show()"
      ],
      "metadata": {
        "colab": {
          "base_uri": "https://localhost:8080/",
          "height": 282
        },
        "id": "-YWJmlVh12eH",
        "outputId": "f218de60-10bd-4082-906d-830e6c4196fc"
      },
      "execution_count": 22,
      "outputs": [
        {
          "output_type": "stream",
          "name": "stdout",
          "text": [
            "[0.42678877]\n"
          ]
        },
        {
          "output_type": "display_data",
          "data": {
            "text/plain": [
              "<Figure size 432x288 with 1 Axes>"
            ],
            "image/png": "[encoded data removed]"
          },
          "metadata": {
            "needs_background": "light"
          }
        }
      ]
    }
  ]
}