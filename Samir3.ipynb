{
  "nbformat": 4,
  "nbformat_minor": 0,
  "metadata": {
    "colab": {
      "provenance": [],
      "authorship_tag": "ABX9TyMNLvHFBmrjKbHcMLej+Z5R",
      "include_colab_link": true
    },
    "kernelspec": {
      "name": "python3",
      "display_name": "Python 3"
    },
    "language_info": {
      "name": "python"
    }
  },
  "cells": [
    {
      "cell_type": "markdown",
      "metadata": {
        "id": "view-in-github",
        "colab_type": "text"
      },
      "source": [
        "<a href=\"https://colab.research.google.com/github/sameerkhadka00/pyviz.org/blob/master/Samir3.ipynb\" target=\"_parent\"><img src=\"https://colab.research.google.com/assets/colab-badge.svg\" alt=\"Open In Colab\"/></a>"
      ]
    },
    {
      "cell_type": "code",
      "execution_count": 1,
      "metadata": {
        "colab": {
          "base_uri": "https://localhost:8080/"
        },
        "id": "SRsQ4goVzI1r",
        "outputId": "85236f47-9200-4182-b2e0-51cd0b274c99"
      },
      "outputs": [
        {
          "output_type": "stream",
          "name": "stdout",
          "text": [
            "2.7182818284590455\n"
          ]
        }
      ],
      "source": [
        "#Answer of 1\n",
        "def approx_e(iter):\n",
        "    # Initialize the sum with the first term\n",
        "    e = 1\n",
        "\n",
        "    # Iterate through the terms and add them to the sum\n",
        "    for i in range(1, iter + 1):\n",
        "        e += 1 / factorial(i)\n",
        "\n",
        "    return e\n",
        "def factorial(n):\n",
        "    if n == 0:\n",
        "        return 1\n",
        "    return n * factorial(n - 1)\n",
        "print(approx_e(100))\n"
      ]
    },
    {
      "cell_type": "code",
      "source": [
        "#Answer of 3\n",
        "def add_this_many(x, el, lst):\n",
        "    # Count the occurrences of x in the list\n",
        "    count = lst.count(x)\n",
        "\n",
        "    # Add el to the end of the list count times\n",
        "    for i in range(count):\n",
        "        lst.append(el)\n",
        "lst = [1, 2, 4, 3, 1]\n",
        "add_this_many(1, 5, lst)\n",
        "print(lst) \n"
      ],
      "metadata": {
        "colab": {
          "base_uri": "https://localhost:8080/"
        },
        "id": "SaJYLqvBzr4X",
        "outputId": "9f40b17b-c2dc-45d9-ea9c-6288c2f99b6f"
      },
      "execution_count": 2,
      "outputs": [
        {
          "output_type": "stream",
          "name": "stdout",
          "text": [
            "[1, 2, 4, 3, 1, 5, 5]\n"
          ]
        }
      ]
    },
    {
      "cell_type": "code",
      "source": [
        "#Answer of 2\n",
        "def squares(seq):\n",
        "    # Initialize the new list\n",
        "    squares_list = []\n",
        "# Check each item in the list one by one to see if it's a perfect square.\n",
        "    for elm in seq:\n",
        "        # Verify if the element's square root is an integer.\n",
        "        if (elm ** 0.5).is_integer():\n",
        "            squares_list.append(elm)\n",
        "\n",
        "    return squares_list\n",
        "seq = [49, 8, 2, 1, 102]\n",
        "print(squares(seq)) \n",
        "\n",
        "seq = [500, 30]\n",
        "print(squares(seq))\n"
      ],
      "metadata": {
        "colab": {
          "base_uri": "https://localhost:8080/"
        },
        "id": "b_j4AohDz9BE",
        "outputId": "d5b9d45b-1eb1-4ab0-bc8c-6c75a380de60"
      },
      "execution_count": 3,
      "outputs": [
        {
          "output_type": "stream",
          "name": "stdout",
          "text": [
            "[49, 1]\n",
            "[]\n"
          ]
        }
      ]
    }
  ]
}