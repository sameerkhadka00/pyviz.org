{
  "nbformat": 4,
  "nbformat_minor": 0,
  "metadata": {
    "colab": {
      "provenance": [],
      "collapsed_sections": [],
      "authorship_tag": "ABX9TyNqBm17m2jyxyXAq7q4Ye48",
      "include_colab_link": true
    },
    "kernelspec": {
      "name": "python3",
      "display_name": "Python 3"
    },
    "language_info": {
      "name": "python"
    }
  },
  "cells": [
    {
      "cell_type": "markdown",
      "metadata": {
        "id": "view-in-github",
        "colab_type": "text"
      },
      "source": [
        "<a href=\"https://colab.research.google.com/github/sameerkhadka00/pyviz.org/blob/master/AssignS.ipynb\" target=\"_parent\"><img src=\"https://colab.research.google.com/assets/colab-badge.svg\" alt=\"Open In Colab\"/></a>"
      ]
    },
    {
      "cell_type": "code",
      "execution_count": null,
      "metadata": {
        "colab": {
          "base_uri": "https://localhost:8080/"
        },
        "id": "TPMzuRbOZoQt",
        "outputId": "845f1321-15f0-48c3-e96f-6be88fcf249f"
      },
      "outputs": [
        {
          "output_type": "stream",
          "name": "stdout",
          "text": [
            "This number is a palindrome\n",
            "This number is not a palindrome\n"
          ]
        }
      ],
      "source": [
        "#Answer of 3\n",
        "def checkPalindrome(str):\n",
        "   \n",
        "   \n",
        "    for i in range(0, len(str)//2):\n",
        "        if str[i] != str[len(str)-i-1]:\n",
        "            return False\n",
        "           \n",
        "    \n",
        "    return True\n",
        " \n",
        " \n",
        "\n",
        "st = \"121\"\n",
        "st1 = \"123\"\n",
        "if(checkPalindrome(st) == True):\n",
        "    print(\"This number is a palindrome\")\n",
        "else:\n",
        "    print(\"This number is a palindrome\")\n",
        "if(checkPalindrome(st1) == True):\n",
        "    print(\"This number is a palindrome\")\n",
        "else:\n",
        "    print(\"This number is not a palindrome\")"
      ]
    },
    {
      "cell_type": "code",
      "source": [
        "#Answer of 5\n",
        "import math\n",
        " \n",
        "print( math.pi )\n",
        "k = 1\n",
        " \n",
        "# Initialize sum\n",
        "s = 0\n",
        " \n",
        "for i in range(10000):\n",
        " \n",
        "    # even index elements are positive\n",
        "    if i % 2 == 0:\n",
        "        s+=4/k\n",
        "    else:\n",
        " \n",
        "        # odd index elements are negative\n",
        "        s -= 4/k\n",
        " \n",
        "    # denominator is odd\n",
        "    k += 2\n",
        "     \n",
        "print(s)\n",
        "print(\"the difference between them is: =\", math.pi - s)\n"
      ],
      "metadata": {
        "colab": {
          "base_uri": "https://localhost:8080/"
        },
        "id": "SSwgez34xjrv",
        "outputId": "5c20f0b8-c50b-49ca-eb6b-d39ac32b0e9e"
      },
      "execution_count": null,
      "outputs": [
        {
          "output_type": "stream",
          "name": "stdout",
          "text": [
            "3.141592653589793\n",
            "3.1414926535900345\n",
            "the difference between them is: = 9.99999997586265e-05\n"
          ]
        }
      ]
    },
    {
      "cell_type": "code",
      "source": [
        "#Answer of 4\n",
        "def CmmnPrfx( a):\n",
        "     \n",
        "    size = len(a)\n",
        " \n",
        "    \n",
        "    if (size == 0):\n",
        "        return \"\"\n",
        " \n",
        "    if (size == 1):\n",
        "        return a[0]\n",
        " \n",
        "    \n",
        "    a.sort()\n",
        "     \n",
        "    \n",
        "    end = min(len(a[0]), len(a[size - 1]))\n",
        " \n",
        "   \n",
        "    i = 0\n",
        "    while (i < end and\n",
        "           a[0][i] == a[size - 1][i]):\n",
        "        i += 1\n",
        " \n",
        "    pre = a[0][0: i]\n",
        "    return pre\n",
        " \n",
        "\n",
        "if __name__ == \"__main__\":\n",
        " \n",
        "    input = [\"michael\",\"michelle\",\"mitch\"]\n",
        "    print(\"The longest Common Prefix would be :\" ,\n",
        "                 CmmnPrfx(input))\n",
        " "
      ],
      "metadata": {
        "colab": {
          "base_uri": "https://localhost:8080/"
        },
        "id": "F15w2l4_amFi",
        "outputId": "f722cc1c-c303-4cab-cfce-f2ab99b3c9f8"
      },
      "execution_count": null,
      "outputs": [
        {
          "output_type": "stream",
          "name": "stdout",
          "text": [
            "The longest Common Prefix would be : mi\n"
          ]
        }
      ]
    },
    {
      "cell_type": "code",
      "source": [
        "#Answer of 2\n",
        "def sum(arr,targ):\n",
        "    result = {}\n",
        "    for n,x in enumerate(arr,0):\n",
        "        try:\n",
        "            return result[x], n\n",
        "        except KeyError:\n",
        "           result.setdefault(targ - x,n)\n",
        "\n",
        "nums = [1,2,3,4]\n",
        "target= 7\n",
        "print(sum(nums,target))\n",
        "\n"
      ],
      "metadata": {
        "colab": {
          "base_uri": "https://localhost:8080/"
        },
        "id": "NfIwqlEGb7vT",
        "outputId": "f2dbe50b-eb20-4945-9623-f98d993f309a"
      },
      "execution_count": null,
      "outputs": [
        {
          "output_type": "stream",
          "name": "stdout",
          "text": [
            "(2, 3)\n"
          ]
        }
      ]
    },
    {
      "cell_type": "code",
      "source": [
        "#Answer of 6\n",
        "def evaluate(x, guess):\n",
        "    return (abs(guess*guess - x) < 0.001)\n",
        "\n",
        "def newton(x, guess):\n",
        "    while not evaluate(x, guess):\n",
        "        guess = (guess + (x/guess)) / 2\n",
        "    return guess\n",
        "\n",
        "print(newton(10, 17))"
      ],
      "metadata": {
        "colab": {
          "base_uri": "https://localhost:8080/"
        },
        "id": "R_io3hEBd72k",
        "outputId": "9f07fb49-d7a9-42ef-a451-cdab5a314779"
      },
      "execution_count": null,
      "outputs": [
        {
          "output_type": "stream",
          "name": "stdout",
          "text": [
            "3.1623147994254315\n"
          ]
        }
      ]
    },
    {
      "cell_type": "code",
      "source": [
        "#Answer of 1\n",
        "def reverse(string):\n",
        "    st = list()\n",
        " \n",
        "    \n",
        "    for i in range(len(string)):\n",
        "        if string[i] != \" \":\n",
        "            st.append(string[i])\n",
        " \n",
        "        else:\n",
        "            while len(st) > 0:\n",
        "                print(st[-1], end= \"\")\n",
        "                st.pop()\n",
        "            print(end = \" \")\n",
        " \n",
        "   \n",
        "    while len(st) > 0:\n",
        "        print(st[-1], end = \"\")\n",
        "        st.pop()\n",
        " \n",
        "if __name__ == \"__main__\":\n",
        "    string = \"Hello, World\"\n",
        "    reverse(string)\n",
        " \n"
      ],
      "metadata": {
        "colab": {
          "base_uri": "https://localhost:8080/"
        },
        "id": "MDwz4F45jHU3",
        "outputId": "52e3617f-8afd-405e-81bf-aa4a4b376254"
      },
      "execution_count": null,
      "outputs": [
        {
          "output_type": "stream",
          "name": "stdout",
          "text": [
            ",olleH dlroW"
          ]
        }
      ]
    }
  ]
}