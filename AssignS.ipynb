{
  "nbformat": 4,
  "nbformat_minor": 0,
  "metadata": {
    "colab": {
      "provenance": [],
      "authorship_tag": "ABX9TyPKMHjERMZL+Dd3sGipgOLS",
      "include_colab_link": true
    },
    "kernelspec": {
      "name": "python3",
      "display_name": "Python 3"
    },
    "language_info": {
      "name": "python"
    }
  },
  "cells": [
    {
      "cell_type": "markdown",
      "metadata": {
        "id": "view-in-github",
        "colab_type": "text"
      },
      "source": [
        "<a href=\"https://colab.research.google.com/github/sameerkhadka00/pyviz.org/blob/master/AssignS.ipynb\" target=\"_parent\"><img src=\"https://colab.research.google.com/assets/colab-badge.svg\" alt=\"Open In Colab\"/></a>"
      ]
    },
    {
      "cell_type": "code",
      "execution_count": 1,
      "metadata": {
        "colab": {
          "base_uri": "https://localhost:8080/"
        },
        "id": "1CzUUSzm8l2_",
        "outputId": "cd7aa881-74e8-4a3b-ab0f-93575e21153c"
      },
      "outputs": [
        {
          "output_type": "stream",
          "name": "stdout",
          "text": [
            "Give input:Hello, Python\n",
            ",olleH nohtyP "
          ]
        }
      ],
      "source": [
        "#Answer of no.1\n",
        "n=input(\"The input is:\")\n",
        "def reverse(n):\n",
        "  result=n.split(\" \")\n",
        "  for char in result: \n",
        "   char=char[::-1]\n",
        "   result=\"\".join(char)\n",
        "   print(result, end=\" \")\n",
        "reverse(n)"
      ]
    },
    {
      "cell_type": "code",
      "source": [
        "#Answer of no.2\n",
        "class outcome(object):\n",
        "  def Sum(self, n, target):\n",
        "   answer = [] \n",
        "   for k in range(len(n) - 1): \n",
        "    for l in range(k+1,len(n)):\n",
        "                x = n[k] + n[l]\n",
        "                if x == target:\n",
        "                    answer.append((k, l)) \n",
        "   return answer\n",
        "print(outcome().Sum([1,2,3,4], 7))\n",
        "   \n",
        "   \n"
      ],
      "metadata": {
        "colab": {
          "base_uri": "https://localhost:8080/"
        },
        "id": "fDgJujKt82XC",
        "outputId": "7a0660ea-6e6d-4d2f-ff64-71c2de654c2b"
      },
      "execution_count": 6,
      "outputs": [
        {
          "output_type": "stream",
          "name": "stdout",
          "text": [
            "[(2, 3)]\n"
          ]
        }
      ]
    },
    {
      "cell_type": "code",
      "source": [
        "#Answer of no.3\n",
        "n=input(\"The input is:\")\n",
        "\n",
        "def palindrome(n):\n",
        " if (n==n[::-1]):\n",
        "  return True\n",
        " else:\n",
        "  return False\n",
        "palindrome(n)"
      ],
      "metadata": {
        "colab": {
          "base_uri": "https://localhost:8080/"
        },
        "id": "45icmUAz9tFo",
        "outputId": "704d8d25-6fb4-4682-e234-819ad7c7ba0f"
      },
      "execution_count": 11,
      "outputs": [
        {
          "name": "stdout",
          "output_type": "stream",
          "text": [
            "The input is:123\n"
          ]
        },
        {
          "output_type": "execute_result",
          "data": {
            "text/plain": [
              "False"
            ]
          },
          "metadata": {},
          "execution_count": 11
        }
      ]
    },
    {
      "cell_type": "code",
      "source": [
        "#Answer of no.4\n",
        "def cmnprfx():\n",
        " str = ['michael','michelle','mitch']\n",
        " str = sorted(str)\n",
        " k=str[0]\n",
        " prfx=\"\"\n",
        " for l in range(len(k)):\n",
        "    if str[len(str)-1][l] == k[l]:\n",
        "       prfx = prfx + str[len(str)-1][l]\n",
        "    else:\n",
        "       break\n",
        " print(prfx)\n",
        "cmnprfx()"
      ],
      "metadata": {
        "colab": {
          "base_uri": "https://localhost:8080/"
        },
        "id": "izfKpgJE-0Fw",
        "outputId": "056774b2-df02-4657-afa8-20a7cf17ddf1"
      },
      "execution_count": 14,
      "outputs": [
        {
          "output_type": "stream",
          "name": "stdout",
          "text": [
            "mi\n"
          ]
        }
      ]
    },
    {
      "cell_type": "code",
      "source": [
        "#Answer of no.5\n",
        "import math\n",
        "num = int(input(\"Enter the number of terms: \"))\n",
        "pi = 0\n",
        "for i in range(num):\n",
        " value = ((-1) ** i) * (4 / (2 * i + 1))\n",
        " pi += value\n",
        "print(\"This is the calculated pi value: =\", pi)\n",
        "print(\"This is the actual value of pi: =\", math.pi)\n",
        "print(\"the difference between them is: =\", math.pi - pi)"
      ],
      "metadata": {
        "colab": {
          "base_uri": "https://localhost:8080/"
        },
        "id": "N04mkcq1_aUA",
        "outputId": "5d1c4397-984d-4667-c2f8-b5028e22bd72"
      },
      "execution_count": 15,
      "outputs": [
        {
          "output_type": "stream",
          "name": "stdout",
          "text": [
            "Enter the number of terms: 5\n",
            "This is the calculated pi value: = 3.3396825396825403\n",
            "This is the actual value of pi: = 3.141592653589793\n",
            "the difference between them is: = -0.19808988609274714\n"
          ]
        }
      ]
    },
    {
      "cell_type": "code",
      "source": [
        "#Answer of no.6\n",
        "import math\n",
        "def newton_method(x,step):\n",
        "    p=1\n",
        "    r = x/2\n",
        "    while p <= step:\n",
        "        r = (r + (x/r)) / 2\n",
        "        p+=1\n",
        "    return r\n",
        "answer = newton_method(36, 6)\n",
        "print (answer,'\\nThe required difference between them is : ', answer - (math.sqrt(34)))\n",
        "\n"
      ],
      "metadata": {
        "colab": {
          "base_uri": "https://localhost:8080/"
        },
        "id": "3QTll1oy_4Ch",
        "outputId": "94902de7-34d4-44fe-aaf2-490803ed9745"
      },
      "execution_count": 17,
      "outputs": [
        {
          "output_type": "stream",
          "name": "stdout",
          "text": [
            "6.0 \n",
            "The required difference between them is :  0.16904810515469926\n"
          ]
        }
      ]
    }
  ]
}