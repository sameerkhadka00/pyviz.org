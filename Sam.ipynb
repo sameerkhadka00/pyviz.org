{
  "nbformat": 4,
  "nbformat_minor": 0,
  "metadata": {
    "colab": {
      "provenance": [],
      "collapsed_sections": [],
      "authorship_tag": "ABX9TyNfg1qqsZsNXeKYKbHBlXVF",
      "include_colab_link": true
    },
    "kernelspec": {
      "name": "python3",
      "display_name": "Python 3"
    },
    "language_info": {
      "name": "python"
    }
  },
  "cells": [
    {
      "cell_type": "markdown",
      "metadata": {
        "id": "view-in-github",
        "colab_type": "text"
      },
      "source": [
        "<a href=\"https://colab.research.google.com/github/sameerkhadka00/pyviz.org/blob/master/Sam.ipynb\" target=\"_parent\"><img src=\"https://colab.research.google.com/assets/colab-badge.svg\" alt=\"Open In Colab\"/></a>"
      ]
    },
    {
      "cell_type": "code",
      "source": [
        "text=input(\"The text is:\")\n",
        "key=int(input(\"The key is: \"))\n",
        "for c in text:\n",
        " c=ord(c)\n",
        " r=c+key\n",
        " newres=chr(r) \n",
        "print(newres,end=\"\")"
      ],
      "metadata": {
        "colab": {
          "base_uri": "https://localhost:8080/"
        },
        "id": "8lXffsxB76kA",
        "outputId": "20a22e75-e567-4a6d-924f-c38d2a5a39de"
      },
      "execution_count": 4,
      "outputs": [
        {
          "output_type": "stream",
          "name": "stdout",
          "text": [
            "The text is:How are you?\n",
            "The key is: 2\n",
            "A"
          ]
        }
      ]
    },
    {
      "cell_type": "code",
      "execution_count": 3,
      "metadata": {
        "colab": {
          "base_uri": "https://localhost:8080/"
        },
        "id": "tUdxHo9V5g4-",
        "outputId": "4a139749-bdef-4249-e7b7-67427d1fe5c0"
      },
      "outputs": [
        {
          "output_type": "stream",
          "name": "stdout",
          "text": [
            "4257\n",
            "The result of adding is 4257\n",
            "The list required is [4, 2, 5, 7]\n"
          ]
        }
      ],
      "source": [
        "#Answer of 2\n",
        "l = [4, 2, 5, 6]\n",
        "\n",
        "t = [str(integer) for integer in l]\n",
        "a_string = \"\".join(t)\n",
        "\n",
        "res = int(a_string)\n",
        "a=1\n",
        "sum=res+1\n",
        "print(sum)\n",
        "num = sum\n",
        "\n",
        "print(\"The result of adding is \" + str(num))\n",
        "res1 = [int(x) for x in str(num)]\n",
        "print(\"The list required is \" + str(res1))\n",
        "\n"
      ]
    },
    {
      "cell_type": "code",
      "source": [
        "#Answer of 3\n",
        "if __name__ == \"__main__\" :\n",
        " \n",
        "   \n",
        "    a = \"1011\"\n",
        "    b = \"10\"\n",
        "     \n",
        "   \n",
        "    bn_sum = lambda a,b : bin(int(a, 2) + int(b, 2))\n",
        "     \n",
        "    print(bn_sum(a,b)[2:])\n",
        "     "
      ],
      "metadata": {
        "colab": {
          "base_uri": "https://localhost:8080/"
        },
        "id": "03pLafeu6nf5",
        "outputId": "be51bd4d-a903-45be-c912-da97aabcdfb1"
      },
      "execution_count": null,
      "outputs": [
        {
          "output_type": "stream",
          "name": "stdout",
          "text": [
            "1101\n"
          ]
        }
      ]
    },
    {
      "cell_type": "code",
      "source": [
        "\n",
        "#Answer of 4\n",
        "import math\n",
        "n=eval(input(\"The input given is: \"))\n",
        "def sumDiv(driver):\n",
        " sum = 0;\n",
        " for i in range(1,driver):\n",
        "  if(driver%i==0):\n",
        "   sum=sum+i\n",
        " return sum;\n",
        "def final_amicable(iteration):\n",
        " final = 0\n",
        " for i in range(1,iteration):\n",
        "  currentDivs = sumDiv(int(i));\n",
        "  resultDivs = sumDiv(currentDivs);\n",
        "  if (i == resultDivs and currentDivs != resultDivs):\n",
        "   if(i > n):\n",
        "    print(i)\n",
        "    final = i\n",
        "    return i\n",
        "    break\n",
        " if(final == 0):\n",
        "   final_amicable(iteration*2)\n",
        "def amc(n):\n",
        "  final_result = final_amicable(1500);\n",
        "amc(n)\n",
        "\n",
        "\n",
        "\n"
      ],
      "metadata": {
        "id": "m2bZTveO7P0P",
        "colab": {
          "base_uri": "https://localhost:8080/"
        },
        "outputId": "1b104bf7-550d-49cb-9fe4-1302ec64a734"
      },
      "execution_count": 2,
      "outputs": [
        {
          "output_type": "stream",
          "name": "stdout",
          "text": [
            "The input given is: 220\n",
            "284\n"
          ]
        }
      ]
    }
  ]
}