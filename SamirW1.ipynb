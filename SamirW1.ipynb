{
  "nbformat": 4,
  "nbformat_minor": 0,
  "metadata": {
    "colab": {
      "provenance": [],
      "authorship_tag": "ABX9TyNv7nDRXkFq4yViVi3aMalO",
      "include_colab_link": true
    },
    "kernelspec": {
      "name": "python3",
      "display_name": "Python 3"
    },
    "language_info": {
      "name": "python"
    }
  },
  "cells": [
    {
      "cell_type": "markdown",
      "metadata": {
        "id": "view-in-github",
        "colab_type": "text"
      },
      "source": [
        "<a href=\"https://colab.research.google.com/github/sameerkhadka00/pyviz.org/blob/master/SamirW1.ipynb\" target=\"_parent\"><img src=\"https://colab.research.google.com/assets/colab-badge.svg\" alt=\"Open In Colab\"/></a>"
      ]
    },
    {
      "cell_type": "code",
      "execution_count": 3,
      "metadata": {
        "colab": {
          "base_uri": "https://localhost:8080/"
        },
        "id": "oWcqnmYKsvxo",
        "outputId": "2ccbc8e5-7d9c-426d-ebd0-57c00047b269"
      },
      "outputs": [
        {
          "output_type": "stream",
          "name": "stdout",
          "text": [
            "2 3 5 7 "
          ]
        }
      ],
      "source": [
        "#Answer of 1\n",
        "def is_Prime(m) :\n",
        "    # Corner cases\n",
        "    if (m <= 1) :\n",
        "        return False\n",
        "    if (m <= 3) :\n",
        "        return True\n",
        "  \n",
        "    # This is checked so that we can skip\n",
        "    # middle five numbers in below loop\n",
        "    if (m % 2 == 0 or m % 3 == 0) :\n",
        "        return False\n",
        "  \n",
        "    i = 5\n",
        "    while(i * i <= m) :\n",
        "        if (m % i == 0 or m % (i + 2) == 0) :\n",
        "            return False\n",
        "        i = i + 6\n",
        "  \n",
        "    return True\n",
        " \n",
        "# print all prime numbers\n",
        "# less than equal to N\n",
        "def printPrime(m):\n",
        "    for i in range(2, m + 1):\n",
        "        if is_Prime(i):\n",
        "            print (i, end =\" \")\n",
        "  \n",
        "m = 7           \n",
        "printPrime(m)"
      ]
    },
    {
      "cell_type": "code",
      "source": [
        "#Answer of 5\n",
        "def multiple(a, b):\n",
        "  if a > b:\n",
        "      z = a\n",
        "  else:\n",
        "      z = b\n",
        "  while(True):\n",
        "      if((z % a == 0) and (z % b == 0)):\n",
        "          lcm = z\n",
        "          break\n",
        "      z += 1\n",
        "  return lcm\n",
        "print(multiple(3, 4))\n"
      ],
      "metadata": {
        "colab": {
          "base_uri": "https://localhost:8080/"
        },
        "id": "OGT9A1XQwsmb",
        "outputId": "c1f08d53-bec7-4534-b280-e49bdf2240fd"
      },
      "execution_count": 19,
      "outputs": [
        {
          "output_type": "stream",
          "name": "stdout",
          "text": [
            "12\n"
          ]
        }
      ]
    },
    {
      "cell_type": "code",
      "source": [
        "#Answer of 2\n",
        "# initializing string\n",
        "test_string = \"I am from Nepal.\"\n",
        " \n",
        "# printing original string\n",
        "print (\"The original string is : \" + test_string)\n",
        " \n",
        "# to count words in string\n",
        "res = test_string.count(\" \")+1\n",
        " \n",
        "# printing result\n",
        "print (\"The number of words in string are : \" + str(res))"
      ],
      "metadata": {
        "colab": {
          "base_uri": "https://localhost:8080/"
        },
        "id": "cWXMGRD6uFtC",
        "outputId": "017739e7-8703-4380-c5ee-a3e0efb90836"
      },
      "execution_count": 8,
      "outputs": [
        {
          "output_type": "stream",
          "name": "stdout",
          "text": [
            "The original string is : I am from Nepal.\n",
            "The number of words in string are : 4\n"
          ]
        }
      ]
    },
    {
      "cell_type": "code",
      "source": [
        "#Answer of 4\n",
        "MAX_N = 100\n",
        "MAX_K = 100\n",
        "\n",
        "C = [[1] + [0]*MAX_K for i in range(MAX_N+1)]\n",
        "\n",
        "for i in range(1, MAX_N+1):\n",
        "    for j in range(1, MAX_K+1):\n",
        "        C[i][j] = C[i-1][j-1] + C[i-1][j];\n",
        "\n",
        "print (C[20][6])\n"
      ],
      "metadata": {
        "colab": {
          "base_uri": "https://localhost:8080/"
        },
        "id": "X54dYluEvUkm",
        "outputId": "56b2b785-5ef9-4b5c-d53a-d572af9683e1"
      },
      "execution_count": 14,
      "outputs": [
        {
          "output_type": "stream",
          "name": "stdout",
          "text": [
            "38760\n"
          ]
        }
      ]
    },
    {
      "cell_type": "code",
      "source": [
        "#Answer of 3\n",
        "def average(numbers):\n",
        "    return sum(numbers)/len(numbers)\n",
        "sentence = input(\"Enter a sentence: \")\n",
        "words = sentence.split()\n",
        "lengths = [len(word) for word in words]\n",
        "print (\"Average length:\", average(lengths))"
      ],
      "metadata": {
        "colab": {
          "base_uri": "https://localhost:8080/"
        },
        "id": "MoLMkn98vxhn",
        "outputId": "4cb320fd-bae8-495c-a6e4-0d83dd862368"
      },
      "execution_count": 16,
      "outputs": [
        {
          "output_type": "stream",
          "name": "stdout",
          "text": [
            "Enter a sentence: Hey, How are you?\n",
            "Average length: 3.5\n"
          ]
        }
      ]
    }
  ]
}