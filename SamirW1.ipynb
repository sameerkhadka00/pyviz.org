{
  "nbformat": 4,
  "nbformat_minor": 0,
  "metadata": {
    "colab": {
      "provenance": [],
      "collapsed_sections": [],
      "authorship_tag": "ABX9TyOm74JFXBYjvP3YtXRje1Z3",
      "include_colab_link": true
    },
    "kernelspec": {
      "name": "python3",
      "display_name": "Python 3"
    },
    "language_info": {
      "name": "python"
    }
  },
  "cells": [
    {
      "cell_type": "markdown",
      "metadata": {
        "id": "view-in-github",
        "colab_type": "text"
      },
      "source": [
        "<a href=\"https://colab.research.google.com/github/sameerkhadka00/pyviz.org/blob/master/SamirW1.ipynb\" target=\"_parent\"><img src=\"https://colab.research.google.com/assets/colab-badge.svg\" alt=\"Open In Colab\"/></a>"
      ]
    },
    {
      "cell_type": "code",
      "execution_count": null,
      "metadata": {
        "colab": {
          "base_uri": "https://localhost:8080/"
        },
        "id": "CWT5wE4koF43",
        "outputId": "39fc443d-a0c6-43c2-f89e-a41fc3a1d6e1"
      },
      "outputs": [
        {
          "output_type": "stream",
          "name": "stdout",
          "text": [
            "Enter a number: 7\n",
            "2\n",
            "3\n",
            "5\n",
            "7\n"
          ]
        }
      ],
      "source": [
        "#Answer of 1\n",
        "def is_prime(n):\n",
        "  if n==1 or n==0:\n",
        "    return False\n",
        "  for i in range(2,n):\n",
        "    if(n%i==0):\n",
        "      return False\n",
        "  return True\n",
        "n = eval(input(\"Enter a number: \"))\n",
        "for i in range(1,n+1):\n",
        "      if(is_prime(i)):\n",
        "        print(i)"
      ]
    },
    {
      "cell_type": "code",
      "source": [
        "#Answer of 2\n",
        "sent=input(\"Enter a sentence: \")\n",
        "res=sent.split(\" \")\n",
        "length=len(res)\n",
        "print(\"The number of words in the sentence is {}\".format(length)+\".\")"
      ],
      "metadata": {
        "colab": {
          "base_uri": "https://localhost:8080/"
        },
        "id": "MY9blG9po6Q8",
        "outputId": "e0ca0f6f-9f07-4082-d2a0-5e9f3d347028"
      },
      "execution_count": null,
      "outputs": [
        {
          "output_type": "stream",
          "name": "stdout",
          "text": [
            "Enter a sentence: I love Nepal\n",
            "The number of words in the sentence is 3.\n"
          ]
        }
      ]
    },
    {
      "cell_type": "code",
      "source": [
        "#Answer of 3\n",
        "sent=input('Enter a sentence: ')\n",
        "res=sent.split(\" \")\n",
        "sum=0\n",
        "for words in res:\n",
        "  c=len(words)\n",
        "sum=sum+c\n",
        "avg=sum/len(res)\n",
        "print(\"The avg word length is\",avg)"
      ],
      "metadata": {
        "colab": {
          "base_uri": "https://localhost:8080/"
        },
        "id": "Yu4tFgl_pbPR",
        "outputId": "298c902d-af09-4d3b-bd6f-4eeb3c2a313e"
      },
      "execution_count": null,
      "outputs": [
        {
          "output_type": "stream",
          "name": "stdout",
          "text": [
            "Enter a sentence: I am in the USA\n",
            "The avg word length is 0.6\n"
          ]
        }
      ]
    },
    {
      "cell_type": "code",
      "source": [
        "#Answer of 4\n",
        "n=eval(input(\"Enter n: \"))\n",
        "k=eval(input(\"Enter k: \"))\n",
        "d=(n-k)\n",
        "def choose(n,k):\n",
        "  fac1=1\n",
        "  fac2=1\n",
        "  fac3=1\n",
        "  for i in range(1,n+1):\n",
        "    fac1 =fac1*i\n",
        "  for j in range(1,k+1):\n",
        "    fac2=fac2*j\n",
        "  for s in range(1,d+1):\n",
        "    fac3=fac3*s\n",
        "  value=(fac1)//((fac2)*(fac3))\n",
        "  return value\n",
        "choose(n,k)\n",
        "\n",
        "\n",
        "\n"
      ],
      "metadata": {
        "colab": {
          "base_uri": "https://localhost:8080/"
        },
        "id": "d7TwJkSzptNT",
        "outputId": "93f78818-b5be-4f5f-dc86-937428ddd4db"
      },
      "execution_count": null,
      "outputs": [
        {
          "name": "stdout",
          "output_type": "stream",
          "text": [
            "Enter n: 5\n",
            "Enter k: 2\n"
          ]
        },
        {
          "output_type": "execute_result",
          "data": {
            "text/plain": [
              "10"
            ]
          },
          "metadata": {},
          "execution_count": 29
        }
      ]
    },
    {
      "cell_type": "code",
      "source": [
        "#Answer of 5\n",
        "import math\n",
        "a=eval(input(\"Enter a number:\"))\n",
        "b=eval(input(\"Enter a number:\"))\n",
        "def multiple(a,b):\n",
        "  result=math.gcd(a,b)\n",
        "  lcm=(a*b)//result\n",
        "  return lcm\n",
        "multiple(a,b)"
      ],
      "metadata": {
        "colab": {
          "base_uri": "https://localhost:8080/"
        },
        "id": "CbnwwbkwptT8",
        "outputId": "8922ed3d-f246-494e-96b3-940901a202fd"
      },
      "execution_count": null,
      "outputs": [
        {
          "name": "stdout",
          "output_type": "stream",
          "text": [
            "Enter a number:3\n",
            "Enter a number:4\n"
          ]
        },
        {
          "output_type": "execute_result",
          "data": {
            "text/plain": [
              "12"
            ]
          },
          "metadata": {},
          "execution_count": 18
        }
      ]
    }
  ]
}