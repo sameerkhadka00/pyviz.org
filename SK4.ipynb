{
  "nbformat": 4,
  "nbformat_minor": 0,
  "metadata": {
    "colab": {
      "provenance": [],
      "authorship_tag": "ABX9TyPNtVUa+swKt4iBD1qmfOet",
      "include_colab_link": true
    },
    "kernelspec": {
      "name": "python3",
      "display_name": "Python 3"
    },
    "language_info": {
      "name": "python"
    }
  },
  "cells": [
    {
      "cell_type": "markdown",
      "metadata": {
        "id": "view-in-github",
        "colab_type": "text"
      },
      "source": [
        "<a href=\"https://colab.research.google.com/github/sameerkhadka00/pyviz.org/blob/master/SK4.ipynb\" target=\"_parent\"><img src=\"https://colab.research.google.com/assets/colab-badge.svg\" alt=\"Open In Colab\"/></a>"
      ]
    },
    {
      "cell_type": "code",
      "execution_count": 23,
      "metadata": {
        "colab": {
          "base_uri": "https://localhost:8080/"
        },
        "id": "5I7gjDR3tDpg",
        "outputId": "a590de36-8ce5-4235-dca4-ed4ff155227d"
      },
      "outputs": [
        {
          "output_type": "stream",
          "name": "stdout",
          "text": [
            "Max product 90\n"
          ]
        }
      ],
      "source": [
        "#Answer of 1\n",
        "import sys\n",
        "def max_product(lst):\n",
        " \n",
        "    # base case\n",
        "    if len(lst) < 2:\n",
        "        return\n",
        " \n",
        "    max_product = -sys.maxsize\n",
        "    max_i = max_j = -1\n",
        "    for i in range(len(lst) - 1):\n",
        "        for j in range(i + 1, len(lst)):\n",
        "            # update the maximum product if required\n",
        "            if max_product < lst[i] * lst[j]:\n",
        "                max_product = lst[i] * lst[j]\n",
        "                (max_i, max_j) = (i, j)\n",
        " \n",
        "    print(\"Max product\", (lst[max_i]*lst[max_j]))\n",
        " \n",
        "if __name__ == '__main__':\n",
        "\n",
        " \n",
        "    lst = [10,3,1,9,2]\n",
        "    max_product(lst)\n",
        " \n"
      ]
    },
    {
      "cell_type": "code",
      "source": [
        "#Answer of 3\n",
        "def sort(lst):\n",
        "    # List of numbers\n",
        "    listOfNum = [-4, 1, -2, 0, 3]\n",
        "    \n",
        "    # Create a sorted copy of existing list\n",
        "    newList = sorted(listOfNum)\n",
        "     # print the List\n",
        "    print(\"New List:\", newList)\n",
        "if __name__ == \"__main__\":\n",
        "    sort(lst)"
      ],
      "metadata": {
        "colab": {
          "base_uri": "https://localhost:8080/"
        },
        "id": "jB3Poy4evM_L",
        "outputId": "ca44c4d1-5e21-4cdd-a485-9420c5eb0f17"
      },
      "execution_count": 17,
      "outputs": [
        {
          "output_type": "stream",
          "name": "stdout",
          "text": [
            "New List: [-4, -2, 0, 1, 3]\n"
          ]
        }
      ]
    },
    {
      "cell_type": "code",
      "source": [
        "#Answer of 4\n",
        "def chk_elm(lst,n):\n",
        "    for i in lst:\n",
        "         if i==n:\n",
        "             return True  \n",
        "    return False\n",
        "\n",
        "#initialise list\n",
        "lst=[ [1,[2]], 3, [ [4], [5,[6] ] ]   ]\n",
        "a= (lst,6)\n",
        "print(\"Checking if\",a,\"is in\",lst)\n",
        "print(chk_elm(lst,a))"
      ],
      "metadata": {
        "colab": {
          "base_uri": "https://localhost:8080/"
        },
        "id": "c_jqja0exkjP",
        "outputId": "21254036-654c-462e-9e30-a24761327e22"
      },
      "execution_count": 25,
      "outputs": [
        {
          "output_type": "stream",
          "name": "stdout",
          "text": [
            "Checking if ([[1, [2]], 3, [[4], [5, [6]]]], 6) is in [[1, [2]], 3, [[4], [5, [6]]]]\n",
            "False\n"
          ]
        }
      ]
    }
  ]
}