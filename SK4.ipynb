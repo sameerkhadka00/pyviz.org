{
  "nbformat": 4,
  "nbformat_minor": 0,
  "metadata": {
    "colab": {
      "provenance": [],
      "authorship_tag": "ABX9TyMMuXppXf1ZhI0KIeruTE71",
      "include_colab_link": true
    },
    "kernelspec": {
      "name": "python3",
      "display_name": "Python 3"
    },
    "language_info": {
      "name": "python"
    }
  },
  "cells": [
    {
      "cell_type": "markdown",
      "metadata": {
        "id": "view-in-github",
        "colab_type": "text"
      },
      "source": [
        "<a href=\"https://colab.research.google.com/github/sameerkhadka00/pyviz.org/blob/master/SK4.ipynb\" target=\"_parent\"><img src=\"https://colab.research.google.com/assets/colab-badge.svg\" alt=\"Open In Colab\"/></a>"
      ]
    },
    {
      "cell_type": "code",
      "execution_count": 4,
      "metadata": {
        "colab": {
          "base_uri": "https://localhost:8080/"
        },
        "id": "vCQtQ9CnxBGC",
        "outputId": "87862d93-c2d2-4cca-8271-5bfe7bc8c969"
      },
      "outputs": [
        {
          "output_type": "stream",
          "name": "stdout",
          "text": [
            "[[-2, 4], [1, 1], [3, 9]]\n"
          ]
        }
      ],
      "source": [
        "#Answer of 2\n",
        "def coords(fn, seq, lower, upper):\n",
        "    return [[x, fn(x)] for x in seq if lower <= fn(x) <= upper]\n",
        "seq = [-4, -2, 0, 1, 3]\n",
        "fn = lambda x: x**2\n",
        "print(coords(fn, seq, 1, 9)) "
      ]
    },
    {
      "cell_type": "code",
      "source": [
        "#Answer of 3\n",
        "def sort(lst):\n",
        "    # Iterate through the list until it is sorted\n",
        "    while True:\n",
        "        # Assume the list is already sorted\n",
        "        is_sorted = True\n",
        "\n",
        "        # Iterate through the list and compare adjacent elements\n",
        "        for i in range(len(lst) - 1):\n",
        "            if lst[i] > lst[i + 1]:\n",
        "                # Swap the elements if they are in the wrong order\n",
        "                lst[i], lst[i + 1] = lst[i + 1], lst[i]\n",
        "                # Set is_sorted to False, as the list is not yet sorted\n",
        "                is_sorted = False\n",
        "\n",
        "        # If the list is already sorted, break out of the loop\n",
        "        if is_sorted:\n",
        "            break\n",
        "\n",
        "    return lst\n",
        "lst = [-4, 1, -2, 0, 3]\n",
        "print(sort(lst)) # [-4, -2, 0, 1, 3]\n",
        "\n",
        "\n"
      ],
      "metadata": {
        "colab": {
          "base_uri": "https://localhost:8080/"
        },
        "id": "9gIz0_Ztx3et",
        "outputId": "afbf536e-770f-4337-aeba-57cbf1c13827"
      },
      "execution_count": 6,
      "outputs": [
        {
          "output_type": "stream",
          "name": "stdout",
          "text": [
            "[-4, -2, 0, 1, 3]\n"
          ]
        }
      ]
    },
    {
      "cell_type": "code",
      "source": [
        "#ANSWER OF 4\n",
        "def chk_elm(lst, n):\n",
        "    # Iterate through the list\n",
        "    for elm in lst:\n",
        "        # Check if the element is a list\n",
        "        if isinstance(elm, list):\n",
        "            # Recursively call the function with the sublist and target element\n",
        "            if chk_elm(elm, n):\n",
        "                return True\n",
        "        # If the element is not a list, check if it is equal to the target element\n",
        "        elif elm == n:\n",
        "            return True\n",
        "    # If the element was not found in the list, return False\n",
        "    return False\n",
        "a = [ [1,[2]], 3, [ [4], [5,[6] ] ] ]\n",
        "print(chk_elm(a, 6))"
      ],
      "metadata": {
        "colab": {
          "base_uri": "https://localhost:8080/"
        },
        "id": "kFzB1sNOyltj",
        "outputId": "ff28e4a7-0f08-45eb-bc46-7052b9f7784d"
      },
      "execution_count": 7,
      "outputs": [
        {
          "output_type": "stream",
          "name": "stdout",
          "text": [
            "True\n"
          ]
        }
      ]
    },
    {
      "cell_type": "code",
      "source": [
        "\n",
        "#Answer of 1\n",
        "import sys\n",
        "def max_product(lst):\n",
        " \n",
        "    # base case\n",
        "    if len(lst) < 2:\n",
        "        return\n",
        " \n",
        "    max_product = -sys.maxsize\n",
        "    max_i = max_j = -1\n",
        "    for i in range(len(lst) - 1):\n",
        "        for j in range(i + 1, len(lst)):\n",
        "            # update the maximum product if required\n",
        "            if max_product < lst[i] * lst[j]:\n",
        "                max_product = lst[i] * lst[j]\n",
        "                (max_i, max_j) = (i, j)\n",
        " \n",
        "    print(\"Max product\", (lst[max_i]*lst[max_j]))\n",
        " \n",
        "if __name__ == '__main__':\n",
        "\n",
        " \n",
        "    lst = [10,3,1,9,2]\n",
        "    max_product(lst)\n",
        " "
      ],
      "metadata": {
        "colab": {
          "base_uri": "https://localhost:8080/"
        },
        "id": "WML2N2FoyuzX",
        "outputId": "25062cbf-f73f-4ab0-a439-dda6af3f3b3d"
      },
      "execution_count": 8,
      "outputs": [
        {
          "output_type": "stream",
          "name": "stdout",
          "text": [
            "Max product 90\n"
          ]
        }
      ]
    }
  ]
}