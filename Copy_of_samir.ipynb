{
  "nbformat": 4,
  "nbformat_minor": 0,
  "metadata": {
    "colab": {
      "provenance": [],
      "collapsed_sections": [],
      "authorship_tag": "ABX9TyMRQ4eM0hShyY8/2HATgQQm",
      "include_colab_link": true
    },
    "kernelspec": {
      "name": "python3",
      "display_name": "Python 3"
    },
    "language_info": {
      "name": "python"
    }
  },
  "cells": [
    {
      "cell_type": "markdown",
      "metadata": {
        "id": "view-in-github",
        "colab_type": "text"
      },
      "source": [
        "<a href=\"https://colab.research.google.com/github/sameerkhadka00/pyviz.org/blob/master/Copy_of_samir.ipynb\" target=\"_parent\"><img src=\"https://colab.research.google.com/assets/colab-badge.svg\" alt=\"Open In Colab\"/></a>"
      ]
    },
    {
      "cell_type": "code",
      "source": [
        "text=input(\"Enter text:\")\n",
        "key=int(input(\"Enter the key: \"))\n",
        "for c in text:\n",
        " c=ord(c)\n",
        " r=c+key\n",
        " newres=chr(r) \n",
        "print(newres,end=\"\")"
      ],
      "metadata": {
        "colab": {
          "base_uri": "https://localhost:8080/"
        },
        "id": "8lXffsxB76kA",
        "outputId": "ca102729-31ee-4ab9-cf97-f37f4af69a59"
      },
      "execution_count": null,
      "outputs": [
        {
          "output_type": "stream",
          "name": "stdout",
          "text": [
            "Enter text:I am Samir\n",
            "Enter the key: 3\n",
            "u"
          ]
        }
      ]
    },
    {
      "cell_type": "code",
      "execution_count": null,
      "metadata": {
        "colab": {
          "base_uri": "https://localhost:8080/"
        },
        "id": "tUdxHo9V5g4-",
        "outputId": "ed569349-dd98-4bdb-88b3-7c7dba70b0e3"
      },
      "outputs": [
        {
          "output_type": "stream",
          "name": "stdout",
          "text": [
            "4257\n",
            "The number after addition is 4257\n",
            "The list from number is [4, 2, 5, 7]\n"
          ]
        }
      ],
      "source": [
        "#Answer of 2\n",
        "lst = [4, 2, 5, 6]\n",
        "\n",
        "i = [str(integer) for integer in lst]\n",
        "a_string = \"\".join(i)\n",
        "\n",
        "res = int(a_string)\n",
        "a=1\n",
        "sum=res+1\n",
        "print(sum)\n",
        "num = sum\n",
        "\n",
        "print(\"The number after addition is \" + str(num))\n",
        "res1 = [int(x) for x in str(num)]\n",
        "print(\"The list from number is \" + str(res1))\n",
        "\n"
      ]
    },
    {
      "cell_type": "code",
      "source": [
        "#Answer of 3\n",
        "if __name__ == \"__main__\" :\n",
        " \n",
        "   \n",
        "    a = \"1011\"\n",
        "    b = \"10\"\n",
        "     \n",
        "   \n",
        "    bn_sum = lambda a,b : bin(int(a, 2) + int(b, 2))\n",
        "     \n",
        "    print(bn_sum(a,b)[2:])\n",
        "     "
      ],
      "metadata": {
        "colab": {
          "base_uri": "https://localhost:8080/"
        },
        "id": "03pLafeu6nf5",
        "outputId": "be51bd4d-a903-45be-c912-da97aabcdfb1"
      },
      "execution_count": null,
      "outputs": [
        {
          "output_type": "stream",
          "name": "stdout",
          "text": [
            "1101\n"
          ]
        }
      ]
    },
    {
      "cell_type": "code",
      "source": [
        "\n",
        "#Answer of 4\n",
        "import math\n",
        "n=eval(input(\"The input is: \"))\n",
        "def sumDiv(driver):\n",
        " sum = 0;\n",
        " for i in range(1,driver):\n",
        "  if(driver%i==0):\n",
        "   sum=sum+i\n",
        " return sum;\n",
        "def final_amicable(iteration):\n",
        " final = 0\n",
        " for i in range(1,iteration):\n",
        "  currentDivs = sumDiv(int(i));\n",
        "  resultDivs = sumDiv(currentDivs);\n",
        "  if (i == resultDivs and currentDivs != resultDivs):\n",
        "   if(i > n):\n",
        "    print(i)\n",
        "    final = i\n",
        "    return i\n",
        "    break\n",
        " if(final == 0):\n",
        "   final_amicable(iteration*2)\n",
        "def amc(n):\n",
        "  final_result = final_amicable(1500);\n",
        "amc(n)\n",
        "\n",
        "\n",
        "\n"
      ],
      "metadata": {
        "id": "m2bZTveO7P0P",
        "colab": {
          "base_uri": "https://localhost:8080/"
        },
        "outputId": "68acf7c8-8a64-448e-bc1a-5823227bceae"
      },
      "execution_count": 1,
      "outputs": [
        {
          "output_type": "stream",
          "name": "stdout",
          "text": [
            "Give the input: 220\n",
            "284\n"
          ]
        }
      ]
    }
  ]
}