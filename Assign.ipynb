{
  "nbformat": 4,
  "nbformat_minor": 0,
  "metadata": {
    "colab": {
      "provenance": [],
      "collapsed_sections": [],
      "authorship_tag": "ABX9TyPXo9TvryqZZUfwrVb7ReK4",
      "include_colab_link": true
    },
    "kernelspec": {
      "name": "python3",
      "display_name": "Python 3"
    },
    "language_info": {
      "name": "python"
    }
  },
  "cells": [
    {
      "cell_type": "markdown",
      "metadata": {
        "id": "view-in-github",
        "colab_type": "text"
      },
      "source": [
        "<a href=\"https://colab.research.google.com/github/sameerkhadka00/pyviz.org/blob/master/Assign.ipynb\" target=\"_parent\"><img src=\"https://colab.research.google.com/assets/colab-badge.svg\" alt=\"Open In Colab\"/></a>"
      ]
    },
    {
      "cell_type": "code",
      "execution_count": null,
      "metadata": {
        "colab": {
          "base_uri": "https://localhost:8080/"
        },
        "id": "Wwzz_SPAY9SE",
        "outputId": "17d53ac2-af6e-4af4-b8cd-02358503cf93"
      },
      "outputs": [
        {
          "output_type": "stream",
          "name": "stdout",
          "text": [
            "Final estimation of pi= 3.138788\n"
          ]
        }
      ],
      "source": [
        "#Answer of 1\n",
        "import random\n",
        "def pi():\n",
        "  INTERVAL=1000\n",
        "  circle_points=0\n",
        "  square_points=0\n",
        "  for i in range(INTERVAL**2):\n",
        "    rand_x=random.uniform(-1,1)\n",
        "    rand_y=random.uniform(-1,1)\n",
        "    origin_dist=rand_x**2+rand_y**2\n",
        "    if origin_dist<=1:\n",
        "      circle_points+=1\n",
        "    square_points+=1\n",
        "  pi=4*circle_points/square_points\n",
        "  print(\"Final estimation of pi=\", pi)\n",
        "pi()"
      ]
    },
    {
      "cell_type": "code",
      "source": [
        "import numpy\n",
        "import pylab\n",
        "import random\n",
        " \n",
        "\n",
        "n = 1000\n",
        " \n",
        "\n",
        "x = numpy.zeros(n)\n",
        "y = numpy.zeros(n)\n",
        " \n",
        "\n",
        "for i in range(1, n):\n",
        "    val = random.randint(1, 4)\n",
        "    if val == 1:\n",
        "        x[i] = x[i - 1] + 1\n",
        "        y[i] = y[i - 1]\n",
        "    elif val == 2:\n",
        "        x[i] = x[i - 1] - 1\n",
        "        y[i] = y[i - 1]\n",
        "    elif val == 3:\n",
        "        x[i] = x[i - 1]\n",
        "        y[i] = y[i - 1] + 1\n",
        "    else:\n",
        "        x[i] = x[i - 1]\n",
        "        y[i] = y[i - 1] - 1\n",
        "     \n",
        "pylab.title(\"the random Walk ($n = \" + str(n) + \"$ steps)\")\n",
        "pylab.plot(x, y)\n",
        "pylab.savefig(\"rand_walk\"+str(n)+\".png\",bbox_inches=\"tight\",dpi=600)\n",
        "pylab.show()"
      ],
      "metadata": {
        "id": "MwWkVOsCa6hc",
        "colab": {
          "base_uri": "https://localhost:8080/",
          "height": 283
        },
        "outputId": "d12e6f29-9401-4a92-c120-3bb749a85f59"
      },
      "execution_count": 1,
      "outputs": [
        {
          "output_type": "display_data",
          "data": {
            "text/plain": [
              "<Figure size 432x288 with 1 Axes>"
            ],
            "image/png": "[encoded data removed]"
          },
          "metadata": {
            "needs_background": "light"
          }
        }
      ]
    }
  ]
}