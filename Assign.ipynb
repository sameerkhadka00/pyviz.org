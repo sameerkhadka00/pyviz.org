{
  "nbformat": 4,
  "nbformat_minor": 0,
  "metadata": {
    "colab": {
      "provenance": [],
      "collapsed_sections": [],
      "authorship_tag": "ABX9TyMR4ffe8hahmAQVkIwzDNGh",
      "include_colab_link": true
    },
    "kernelspec": {
      "name": "python3",
      "display_name": "Python 3"
    },
    "language_info": {
      "name": "python"
    }
  },
  "cells": [
    {
      "cell_type": "markdown",
      "metadata": {
        "id": "view-in-github",
        "colab_type": "text"
      },
      "source": [
        "<a href=\"https://colab.research.google.com/github/sameerkhadka00/pyviz.org/blob/master/Assign.ipynb\" target=\"_parent\"><img src=\"https://colab.research.google.com/assets/colab-badge.svg\" alt=\"Open In Colab\"/></a>"
      ]
    },
    {
      "cell_type": "code",
      "execution_count": null,
      "metadata": {
        "colab": {
          "base_uri": "https://localhost:8080/"
        },
        "id": "Wwzz_SPAY9SE",
        "outputId": "17d53ac2-af6e-4af4-b8cd-02358503cf93"
      },
      "outputs": [
        {
          "output_type": "stream",
          "name": "stdout",
          "text": [
            "Final estimation of pi= 3.138788\n"
          ]
        }
      ],
      "source": [
        "#Answer of 1\n",
        "import random\n",
        "def pi():\n",
        "  INTERVAL=1000\n",
        "  circle_points=0\n",
        "  square_points=0\n",
        "  for i in range(INTERVAL**2):\n",
        "    rand_x=random.uniform(-1,1)\n",
        "    rand_y=random.uniform(-1,1)\n",
        "    origin_dist=rand_x**2+rand_y**2\n",
        "    if origin_dist<=1:\n",
        "      circle_points+=1\n",
        "    square_points+=1\n",
        "  pi=4*circle_points/square_points\n",
        "  print(\"Final estimation of pi=\", pi)\n",
        "pi()"
      ]
    },
    {
      "cell_type": "code",
      "source": [],
      "metadata": {
        "id": "MwWkVOsCa6hc"
      },
      "execution_count": null,
      "outputs": []
    }
  ]
}